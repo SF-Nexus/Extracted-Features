{
  "cells": [
    {
      "cell_type": "markdown",
      "metadata": {
        "id": "view-in-github",
        "colab_type": "text"
      },
      "source": [
        "<a href=\"https://colab.research.google.com/github/mkane968/extracted-features-1/blob/main/notebooks/2_Cleaning_and_Basic_Text_Analysis.ipynb\" target=\"_parent\"><img src=\"https://colab.research.google.com/assets/colab-badge.svg\" alt=\"Open In Colab\"/></a>"
      ]
    },
    {
      "cell_type": "markdown",
      "id": "411ecf07",
      "metadata": {
        "id": "411ecf07"
      },
      "source": [
        "# Cleaning and Basic Text Analysis\n",
        "\n",
        "Methods for cleaning the segmented and disaggregated text files and performing word counts, chapter counts, stopword removal, and other basic frequency calculations and enrichment processes. "
      ]
    },
    {
      "cell_type": "markdown",
      "id": "5c21e349",
      "metadata": {
        "id": "5c21e349"
      },
      "source": [
        "## Install Packages and Upload Files"
      ]
    },
    {
      "cell_type": "code",
      "execution_count": null,
      "id": "25792e6e",
      "metadata": {
        "id": "25792e6e"
      },
      "outputs": [],
      "source": [
        "import os\n",
        "import io\n",
        "import pandas as pd\n",
        "\n",
        "import nltk\n",
        "#nltk.download('stopwords')\n",
        "from nltk.corpus import stopwords\n",
        "\n",
        "import re\n",
        "\n",
        "#Get dictionary of English words to keep \n",
        "from nltk.corpus import words\n",
        "nltk.download('words')\n",
        "nltk.download('wordnet')\n",
        "nltk.download('omw-1.4')\n",
        "from nltk import WordNetLemmatizer\n",
        "\n",
        "from collections import Counter\n",
        "\n",
        "#Upload files\n",
        "from google.colab import files"
      ]
    },
    {
      "cell_type": "code",
      "source": [
        "#Mount Drive\n",
        "from google.colab import drive\n",
        "drive.mount('/content/drive')"
      ],
      "metadata": {
        "id": "y72qTg84S6wy"
      },
      "id": "y72qTg84S6wy",
      "execution_count": null,
      "outputs": []
    },
    {
      "cell_type": "code",
      "source": [
        "uploaded = files.upload()"
      ],
      "metadata": {
        "id": "Ud-M0Ea3S_zz"
      },
      "id": "Ud-M0Ea3S_zz",
      "execution_count": null,
      "outputs": []
    },
    {
      "cell_type": "code",
      "source": [
        "#Convert csv to dataframe\n",
        "clean_df = pd.read_csv(io.StringIO(uploaded['chapter_chunks_bow_output.csv'].decode('utf-8')))\n",
        "\n",
        "#Drop first column (unnamed)\n",
        "clean_df = clean_df.iloc[: , 1:]\n",
        "\n",
        "#Make text column string values\n",
        "clean_df['Text'] = clean_df['Text'].astype(str)\n",
        "\n",
        "clean_df"
      ],
      "metadata": {
        "id": "2ceUfKalUBPr"
      },
      "id": "2ceUfKalUBPr",
      "execution_count": null,
      "outputs": []
    },
    {
      "cell_type": "markdown",
      "id": "0369aeac",
      "metadata": {
        "id": "0369aeac"
      },
      "source": [
        "## Basic Cleaning"
      ]
    },
    {
      "cell_type": "code",
      "execution_count": null,
      "id": "513575c4",
      "metadata": {
        "id": "513575c4"
      },
      "outputs": [],
      "source": [
        "#Lowercase all words\n",
        "clean_df['Clean_Text'] = clean_df['Text'].str.lower()\n",
        "clean_df"
      ]
    },
    {
      "cell_type": "code",
      "execution_count": null,
      "id": "797d0a41",
      "metadata": {
        "id": "797d0a41"
      },
      "outputs": [],
      "source": [
        "p = re.compile(r'[^\\w\\s]+')\n",
        "clean_df['Clean_Text'] = [p.sub(' ', x) for x in clean_df['Clean_Text'].tolist()]\n",
        "clean_df"
      ]
    },
    {
      "cell_type": "code",
      "execution_count": null,
      "id": "f68f3e86",
      "metadata": {
        "id": "f68f3e86"
      },
      "outputs": [],
      "source": [
        "#Remove extraneous whitespace using regular expressions\n",
        "clean_df['Clean_Text'] = clean_df['Clean_Text'] .str.replace('  +', ' ', regex=True)\n",
        "clean_df"
      ]
    },
    {
      "cell_type": "code",
      "execution_count": null,
      "id": "013b1be2",
      "metadata": {
        "id": "013b1be2"
      },
      "outputs": [],
      "source": [
        "#Remove numbers and extraneous characters\n",
        "clean_df['Clean_Text'] = clean_df['Clean_Text'] .str.replace('\\d+', '', regex=True)\n",
        "clean_df['Clean_Text'] = clean_df['Clean_Text'] .str.replace('_', '')\n",
        "clean_df"
      ]
    },
    {
      "cell_type": "code",
      "execution_count": null,
      "id": "c948b18b",
      "metadata": {
        "id": "c948b18b"
      },
      "outputs": [],
      "source": [
        "#Save cleaned dataframe to working directory\n",
        "clean_df.to_csv('clean_bow_ch_chunks.csv', index=False)\n",
        "files.download('clean_bow_ch_chunks.csv')"
      ]
    },
    {
      "cell_type": "markdown",
      "id": "63822979",
      "metadata": {
        "id": "63822979"
      },
      "source": [
        "## Advanced Cleaning: Stopword Removal, Lemmatization and Keep Only English Words"
      ]
    },
    {
      "cell_type": "code",
      "execution_count": null,
      "id": "78e0c549",
      "metadata": {
        "id": "78e0c549"
      },
      "outputs": [],
      "source": [
        "#Make new dataframe for advanced cleaning\n",
        "adv_clean_df = clean_df.copy()"
      ]
    },
    {
      "cell_type": "code",
      "execution_count": null,
      "id": "7348027e",
      "metadata": {
        "id": "7348027e"
      },
      "outputs": [],
      "source": [
        "#Remove stopwords\n",
        "stop_words = set(stopwords.words(\"english\"))\n",
        "adv_clean_df['Text_NoStops'] = adv_clean_df['Clean_Text'].apply(lambda x: ' '.join([word for word in x.split() if word not in (stop_words)]))\n",
        "adv_clean_df"
      ]
    },
    {
      "cell_type": "code",
      "execution_count": null,
      "id": "9e1efe9a",
      "metadata": {
        "id": "9e1efe9a"
      },
      "outputs": [],
      "source": [
        "#Define list of words to keep from nltk words\n",
        "#Set function will make processing faster\n",
        "words_list = words.words()\n",
        "my_words = set(words.words())"
      ]
    },
    {
      "cell_type": "code",
      "execution_count": null,
      "id": "5092cdc3",
      "metadata": {
        "id": "5092cdc3"
      },
      "outputs": [],
      "source": [
        "#Words corpus does not contain plural forms, must lemmatize first\n",
        "#nltk.download('omw-1.4')\n",
        "wnl = WordNetLemmatizer()\n",
        "\n",
        "#Can choose to lemmatize clean text with or without stopwords\n",
        "adv_clean_df['Text_Lemmas'] = adv_clean_df['Clean_Text'].apply(lambda x: ' '.join([wnl.lemmatize(word) for word in x.split() ]))\n",
        "adv_clean_df"
      ]
    },
    {
      "cell_type": "code",
      "execution_count": null,
      "id": "fda82e35",
      "metadata": {
        "id": "fda82e35"
      },
      "outputs": [],
      "source": [
        "#Add all text to a list of strings\n",
        "adv_clean_df['Text_Lemmas'] = adv_clean_df['Text_Lemmas'].astype(str)\n",
        "data = adv_clean_df.Text_Lemmas.values.tolist()\n",
        "data"
      ]
    },
    {
      "cell_type": "code",
      "execution_count": null,
      "id": "bf67069b",
      "metadata": {
        "id": "bf67069b"
      },
      "outputs": [],
      "source": [
        "#Append each word in list of strings to list of words\n",
        "all_words = []\n",
        "\n",
        "for text in data:\n",
        "    word = text.split()\n",
        "    all_words.append(word)\n",
        "    \n",
        "import itertools\n",
        "all_words_list = list(itertools.chain(*all_words))\n",
        "len(all_words_list)"
      ]
    },
    {
      "cell_type": "code",
      "execution_count": null,
      "id": "a17cb020",
      "metadata": {
        "id": "a17cb020"
      },
      "outputs": [],
      "source": [
        "#Keep only words in lemma list that are also in words corpus\n",
        "adv_clean_df['English_Text'] = adv_clean_df['Text_Lemmas'].apply(lambda x: ' '.join([word for word in x.split() if word in (my_words)]))\n",
        "adv_clean_df"
      ]
    },
    {
      "cell_type": "code",
      "execution_count": null,
      "id": "1c41151f",
      "metadata": {
        "id": "1c41151f"
      },
      "outputs": [],
      "source": [
        "#Add all English text to a list of strings\n",
        "adv_clean_df['English_Text'] = adv_clean_df['English_Text'].astype(str)\n",
        "kept_data = adv_clean_df.English_Text.values.tolist()\n",
        "kept_data"
      ]
    },
    {
      "cell_type": "code",
      "execution_count": null,
      "id": "9a284b53",
      "metadata": {
        "id": "9a284b53"
      },
      "outputs": [],
      "source": [
        "#Append each word in list of strings to list of words\n",
        "kept_words = []\n",
        "\n",
        "for text in kept_data:\n",
        "    word = text.split()\n",
        "    kept_words.append(word)\n",
        "    \n",
        "import itertools\n",
        "kept_words_list = list(itertools.chain(*kept_words))\n",
        "len(kept_words_list)"
      ]
    },
    {
      "cell_type": "code",
      "execution_count": null,
      "id": "a878815c",
      "metadata": {
        "id": "a878815c"
      },
      "outputs": [],
      "source": [
        "#Calculate the number of words that have been removed from the text\n",
        "removed_list = set(all_words_list) - set(kept_words_list)\n",
        "len(removed_list)"
      ]
    },
    {
      "cell_type": "code",
      "execution_count": null,
      "id": "0d9228dd",
      "metadata": {
        "id": "0d9228dd"
      },
      "outputs": [],
      "source": [
        "#Examine what words were removed from the text\n",
        "removed_list= list(removed_list)\n",
        "removed_list.sort()\n",
        "removed_list"
      ]
    },
    {
      "cell_type": "code",
      "execution_count": null,
      "id": "2cf31c42",
      "metadata": {
        "id": "2cf31c42"
      },
      "outputs": [],
      "source": [
        "#Put the list of removed words into a dataframe\n",
        "col_name = ['Removed Words']\n",
        "removed_words_df = pd.DataFrame(removed_list, columns = col_name)\n",
        "removed_words_df"
      ]
    },
    {
      "cell_type": "code",
      "execution_count": null,
      "id": "e153280d",
      "metadata": {
        "id": "e153280d"
      },
      "outputs": [],
      "source": [
        "#Save dataframe with kept words and titles\n",
        "adv_clean_df.to_csv('adv_clean_bow_ch_chunks.csv', index=False)\n",
        "files.download('adv_clean_bow_ch_chunks.csv')\n",
        "\n",
        "#Saved removed words dataframe to working directory\n",
        "removed_words_df.to_csv('Removed_Words_bow_ch_chunks.csv', index=False)\n",
        "files.download('adv_clean_bow_ch_chunks.csv')"
      ]
    },
    {
      "cell_type": "markdown",
      "id": "74f3951d",
      "metadata": {
        "id": "74f3951d"
      },
      "source": [
        "## Basic Text Analysis"
      ]
    },
    {
      "cell_type": "code",
      "execution_count": null,
      "id": "7513036c",
      "metadata": {
        "id": "7513036c"
      },
      "outputs": [],
      "source": [
        "#Get new dataframe to work with\n",
        "df_counts = adv_clean_df.copy()"
      ]
    },
    {
      "cell_type": "code",
      "execution_count": null,
      "id": "5312a79e",
      "metadata": {
        "id": "5312a79e"
      },
      "outputs": [],
      "source": [
        "#Get number of words in each chapter chunk\n",
        "#Make sure to use original texts (not cleaned)\n",
        "ch_words = df_counts[\"Text\"].apply(lambda x: len(str(x).split(' ')))\n",
        "\n",
        "#Append word counts of each chapter chunk to dataframe\n",
        "df_counts[\"Word Count\"] = ch_words\n",
        "df_counts"
      ]
    },
    {
      "cell_type": "code",
      "execution_count": null,
      "id": "f373e4f5",
      "metadata": {
        "id": "f373e4f5"
      },
      "outputs": [],
      "source": [
        "#Get most frequent words across the dataframe\n",
        "#Use text in English/without stopwords\n",
        "Counter(\" \".join(df_counts[\"Text_NoStops\"]).split()).most_common(20)"
      ]
    }
  ],
  "metadata": {
    "kernelspec": {
      "display_name": "Python 3 (ipykernel)",
      "language": "python",
      "name": "python3"
    },
    "language_info": {
      "codemirror_mode": {
        "name": "ipython",
        "version": 3
      },
      "file_extension": ".py",
      "mimetype": "text/x-python",
      "name": "python",
      "nbconvert_exporter": "python",
      "pygments_lexer": "ipython3",
      "version": "3.9.12"
    },
    "colab": {
      "provenance": [],
      "include_colab_link": true
    }
  },
  "nbformat": 4,
  "nbformat_minor": 5
}
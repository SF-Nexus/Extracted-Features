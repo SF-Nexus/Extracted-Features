{
 "cells": [
  {
   "cell_type": "markdown",
   "id": "05b9a860",
   "metadata": {},
   "source": [
    "# Topic Modeling with BERTopic\n",
    "BERTopic is a topic modeling tool which creates topic clusters based on word embeddings and a class-based TF-IDF. It generates a set of topics, the top words in each topic, and the likelihood of each text in a corpus belonging to each topic. Visualizations can also be generated based on the relationships between topics.  \n",
    "\n",
    "\n",
    "This notebook uses BERTopic for unsupervised topic modeling in order to explore the sci-fi corpus. BERTopic can be customized to support the following types of topic modeling:\n",
    "* Guided: seeded topics manually set by the researcher\n",
    "* (Semi)-supervised: modeling guided by document labels\n",
    "* Hierarchicial: topic similarity and rankings calculated, subtopics generated\n",
    "* Dynamic: differentiates topic clustering based on doc timestamps\n",
    "* Online: modeling updated incrementally from small batches of texts \n",
    "\n",
    "Adapted from:\n",
    "\n",
    "https://github.com/MaartenGr/BERTopic/blob/master/notebooks/BERTopic.ipynb\n",
    "\n",
    "https://colab.research.google.com/drive/1FieRA9fLdkQEGDIMYl0I3MCjSUKVF8C-?usp=sharing#scrollTo=y_eHBI1jSb6i"
   ]
  },
  {
   "cell_type": "markdown",
   "id": "3cd93714",
   "metadata": {},
   "source": [
    "## Install Packages"
   ]
  },
  {
   "cell_type": "code",
   "execution_count": null,
   "id": "636db115",
   "metadata": {},
   "outputs": [],
   "source": [
    "#!pip install bertopic\n",
    "#!conda install pandas\n",
    "#!conda install nltk\n",
    "import os\n",
    "import pandas as pd\n",
    "\n",
    "import nltk\n",
    "nltk.download('stopwords')\n",
    "from nltk.corpus import stopwords"
   ]
  },
  {
   "cell_type": "markdown",
   "id": "8308d403",
   "metadata": {},
   "source": [
    "## Get and Clean Data"
   ]
  },
  {
   "cell_type": "code",
   "execution_count": null,
   "id": "4dcd1f65",
   "metadata": {},
   "outputs": [],
   "source": [
    "#Get current working directory \n",
    "path = os.getcwd()\n",
    "print(path)\n",
    "\n",
    "#Change working directory\n",
    "path = os.chdir(\"/home/dssadmin/Desktop/SF_Analysis/Data\")\n",
    "\n",
    "#Upload dataframe√\n",
    "df = pd.read_csv('chapter_chunks_agg_output.csv')\n",
    "\n",
    "#Drop first column (unnamed)\n",
    "df = df.iloc[: , 1:]\n",
    "\n",
    "df"
   ]
  },
  {
   "cell_type": "code",
   "execution_count": null,
   "id": "59c549fa",
   "metadata": {},
   "outputs": [],
   "source": [
    "#Lowercasing, punctuation and stopword removal\n",
    "#Lowercase all words\n",
    "df['Text'] = df['Text'].str.lower()\n",
    "\n",
    "#Remove punctuation and replace with no space (except periods and hyphens)\n",
    "df['Text'] = df['Text'].str.replace(r'[^\\w\\-\\.\\'\\s]+', '', regex = True)\n",
    "\n",
    "#Remove periods and replace with space (to prevent incorrect compounds)\n",
    "df['Text'] = df['Text'].str.replace(r'[^\\w\\-\\'\\s]+', ' ', regex = True)\n",
    "\n",
    "#Remove stopwords\n",
    "#import nltk\n",
    "#nltk.download('stopwords')\n",
    "#from nltk.corpus import stopwords\n",
    "stop_words = set(stopwords.words(\"english\"))\n",
    "df['Text'] = df['Text'].apply(lambda x: ' '.join([word for word in x.split() if word not in (stop_words)]))\n",
    "\n",
    "#Check output\n",
    "df.head()\n"
   ]
  },
  {
   "cell_type": "code",
   "execution_count": null,
   "id": "1561e9fe",
   "metadata": {},
   "outputs": [],
   "source": [
    "#Append data to list\n",
    "text = df.Text.to_list()\n",
    "text"
   ]
  },
  {
   "cell_type": "markdown",
   "id": "efd8f4d8",
   "metadata": {},
   "source": [
    "## Create and Run BERTopic Model\n",
    "\n",
    "The model (`topic_model`) can be defined based on multiple parameters, including: \n",
    "* language: language of word embedding model used (default=English)\n",
    "* embedding-model: sentence-transformers model which is used to create word embeddings; defaults to pre-set model, and [here's a list of all available models](https://www.sbert.net/docs/pretrained_models.html)\n",
    "* nr_topics: set to reduce number of topics; can specify a  specific # of topics OR set as \"auto\" to merge topics with similarity > 0.9\n",
    "* calculate_probabilities: calculates likelihood of each document falling into any of the possible documents (set to True or False)\n",
    "* verbose: set to True so model initiation process does not shows messages\n",
    "\n",
    "Once the model is defined, fit it to the corpus prepared above using `fit_transform` and get topics and probabilities. "
   ]
  },
  {
   "cell_type": "code",
   "execution_count": null,
   "id": "4f2d2fab",
   "metadata": {
    "scrolled": true
   },
   "outputs": [],
   "source": [
    "from bertopic import BERTopic\n",
    "\n",
    "topic_model = BERTopic(language=\"english\", nr_topics = 'auto', calculate_probabilities=True, verbose=True)\n",
    "topics, probs = topic_model.fit_transform(text)"
   ]
  },
  {
   "cell_type": "code",
   "execution_count": null,
   "id": "3b338e76",
   "metadata": {
    "scrolled": true
   },
   "outputs": [],
   "source": [
    "#Get the 10 most frequent topics (-1 topic refers to all outliers, ignore it)\n",
    "freq = topic_model.get_topic_info(); freq.head(10)"
   ]
  },
  {
   "cell_type": "code",
   "execution_count": null,
   "id": "4ff7ec25",
   "metadata": {},
   "outputs": [],
   "source": [
    "#Get all topics and download as csv\n",
    "topic_model_df = topic_model.get_topic_info()\n",
    "\n",
    "topic_model_df.to_csv('topic_model_df.csv', index=False)"
   ]
  },
  {
   "cell_type": "code",
   "execution_count": null,
   "id": "39cf6751",
   "metadata": {},
   "outputs": [],
   "source": [
    "# Select a specific topic\n",
    "topic_model.get_topic(3)  "
   ]
  },
  {
   "cell_type": "code",
   "execution_count": null,
   "id": "23075b9e",
   "metadata": {},
   "outputs": [],
   "source": [
    "#Get mos"
   ]
  },
  {
   "cell_type": "code",
   "execution_count": null,
   "id": "952dc0dd",
   "metadata": {},
   "outputs": [],
   "source": [
    "#Get predicted topics for the first 10 documents in corpus\n",
    "topic_model.topics_[:10]"
   ]
  },
  {
   "cell_type": "code",
   "execution_count": null,
   "id": "7f8c15d8",
   "metadata": {},
   "outputs": [],
   "source": [
    "#Get top topic for every text in corpus and append to a dataframe\n",
    "topic_list = topic_model.topics_[:]\n",
    "top_topics_df = df.copy()\n",
    "top_topics_df['Top_Topic'] = topic_list\n",
    "\n",
    "#Remove docs whose top topic is -1 (outlier)\n",
    "top_topics_df = top_topics_df[top_topics_df.Top_Topic != -1]\n",
    "\n",
    "#Sort by top_topic\n",
    "top_topics_df.sort_values(by=['Top_Topic'], inplace=True)\n",
    "top_topics_df.head(20)"
   ]
  },
  {
   "cell_type": "code",
   "execution_count": null,
   "id": "0c1c6bc4",
   "metadata": {},
   "outputs": [],
   "source": [
    "#Add topic descriptions to dataframe\n",
    "dictionary = topic_model_df[['Topic','Name']].copy()\n",
    "dictionary = dict(zip(dictionary.Topic, dictionary.Name))\n",
    "\n",
    "d = {k:v for k, v in dictionary.items()}\n",
    "\n",
    "top_topics_df['Topic_Description'] = top_topics_df['Top_Topic'].map(d)\n",
    "top_topics_df"
   ]
  },
  {
   "cell_type": "code",
   "execution_count": null,
   "id": "7db935d4",
   "metadata": {},
   "outputs": [],
   "source": [
    "#Download top topics df to csv\n",
    "top_topics_df.to_csv('top_BERT_topics_df.csv', index=False)"
   ]
  },
  {
   "cell_type": "markdown",
   "id": "bb9a5e2b",
   "metadata": {},
   "source": [
    "## Visualizations"
   ]
  },
  {
   "cell_type": "code",
   "execution_count": null,
   "id": "1216fc16",
   "metadata": {},
   "outputs": [],
   "source": [
    "#Visualize distance between topics\n",
    "topic_model.visualize_topics()"
   ]
  },
  {
   "cell_type": "code",
   "execution_count": null,
   "id": "6dbceb14",
   "metadata": {},
   "outputs": [],
   "source": [
    "#Get probability that topics will appear in a specific document\n",
    "topic_model.visualize_distribution(probs[0], min_probability=0.015)"
   ]
  },
  {
   "cell_type": "code",
   "execution_count": null,
   "id": "83b8f932",
   "metadata": {},
   "outputs": [],
   "source": [
    "#Vizualize hierarchical structure of topics\n",
    "topic_model.visualize_hierarchy(top_n_topics=60)"
   ]
  },
  {
   "cell_type": "code",
   "execution_count": null,
   "id": "d8af6958",
   "metadata": {},
   "outputs": [],
   "source": [
    "#Visualize top terms in selected topics\n",
    "topic_model.visualize_barchart(top_n_topics=10)"
   ]
  },
  {
   "cell_type": "code",
   "execution_count": null,
   "id": "6410347b",
   "metadata": {},
   "outputs": [],
   "source": [
    "#Create matrix to indicate similarity between topics\n",
    "topic_model.visualize_heatmap(n_clusters=20, width=1000, height=1000)"
   ]
  },
  {
   "cell_type": "code",
   "execution_count": null,
   "id": "133b44ef",
   "metadata": {},
   "outputs": [],
   "source": [
    "#Visualize the decline of c-TF-IDF score when adding words to the topic representation. \n",
    "#It allows you, using the elbow method, the select the best number of words in a topic.\n",
    "topic_model.visualize_term_rank()"
   ]
  },
  {
   "cell_type": "markdown",
   "id": "797904c8",
   "metadata": {},
   "source": [
    "## Search Topics for Terms"
   ]
  },
  {
   "cell_type": "code",
   "execution_count": null,
   "id": "6f251ef3",
   "metadata": {},
   "outputs": [],
   "source": [
    "#Search for topics that are similar to an input search_term\n",
    "similar_topics, similarity = topic_model.find_topics(\"space\", top_n=5); similar_topics"
   ]
  },
  {
   "cell_type": "code",
   "execution_count": null,
   "id": "3ad757ce",
   "metadata": {},
   "outputs": [],
   "source": [
    "#Look at other terms in that one of the similar topics\n",
    "topic_model.get_topic(18)"
   ]
  },
  {
   "cell_type": "code",
   "execution_count": null,
   "id": "a2f0a7e0",
   "metadata": {},
   "outputs": [],
   "source": [
    "#Get all the texts which have most similar topic as top topic\n",
    "top_topics_df.loc[top_topics_df['Top_Topic'] == 18]"
   ]
  },
  {
   "cell_type": "markdown",
   "id": "c73a4afd",
   "metadata": {},
   "source": [
    "## Update the BERTopic Model\n",
    "\n",
    "Two common ways to update the topic model are based on ngram counts (default is single words, but you can also get bigrams, trigrams, etc) and by setting the number of topics)"
   ]
  },
  {
   "cell_type": "code",
   "execution_count": null,
   "id": "05d71235",
   "metadata": {},
   "outputs": [],
   "source": [
    "#Update topics based on ngram counts\n",
    "topic_model.update_topics(text, n_gram_range=(1, 2))"
   ]
  },
  {
   "cell_type": "code",
   "execution_count": null,
   "id": "410e6783",
   "metadata": {},
   "outputs": [],
   "source": [
    "#Look at the topics again\n",
    "topic_model.get_topic_info(); freq.head(10)"
   ]
  },
  {
   "cell_type": "code",
   "execution_count": null,
   "id": "76b2f335",
   "metadata": {},
   "outputs": [],
   "source": [
    "topic_model.get_topic(4)   # We select topic that we viewed before"
   ]
  },
  {
   "cell_type": "code",
   "execution_count": null,
   "id": "902886c0",
   "metadata": {},
   "outputs": [],
   "source": [
    "#Reduce number of topics\n",
    "topic_model.reduce_topics(text, nr_topics=20)"
   ]
  },
  {
   "cell_type": "code",
   "execution_count": null,
   "id": "1a1fe775",
   "metadata": {},
   "outputs": [],
   "source": [
    "topic_model.get_topic_info(); freq.head(10)"
   ]
  },
  {
   "cell_type": "markdown",
   "id": "4274d818",
   "metadata": {},
   "source": [
    "## Additional Sources\n",
    "Word Embeddings: https://www.shanelynn.ie/get-busy-with-word-embeddings-introduction/\n",
    "\n",
    "BERTopic Intro: https://towardsdatascience.com/meet-bertopic-berts-cousin-for-advanced-topic-modeling-ea5bf0b7faa3\n",
    "\n",
    "MOre about BERTopic: \n",
    "https://towardsdatascience.com/dynamic-topic-modeling-with-bertopic-e5857e29f872"
   ]
  }
 ],
 "metadata": {
  "kernelspec": {
   "display_name": "Python 3 (ipykernel)",
   "language": "python",
   "name": "python3"
  },
  "language_info": {
   "codemirror_mode": {
    "name": "ipython",
    "version": 3
   },
   "file_extension": ".py",
   "mimetype": "text/x-python",
   "name": "python",
   "nbconvert_exporter": "python",
   "pygments_lexer": "ipython3",
   "version": "3.9.15"
  }
 },
 "nbformat": 4,
 "nbformat_minor": 5
}
